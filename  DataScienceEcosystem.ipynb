{
 "cells": [
  {
   "cell_type": "markdown",
   "id": "eae22d8f-d492-458e-808a-ee998f9fa8aa",
   "metadata": {},
   "source": [
    "# Data Science Tools and Ecosystem"
   ]
  },
  {
   "cell_type": "markdown",
   "id": "ce27e7b9-7a43-4c70-8de4-9daedd47818d",
   "metadata": {},
   "source": [
    "## In this notebook, Data Science Tools and Ecosystem are summarized."
   ]
  },
  {
   "cell_type": "markdown",
   "id": "76161c0d-ea08-4e28-8b33-9935dcf31c2d",
   "metadata": {},
   "source": [
    "# Some of the popular languages that Data Scientists use are:\n",
    "1. python\n",
    "2. R\n",
    "3. SPSS"
   ]
  },
  {
   "cell_type": "markdown",
   "id": "a4597c5b-9808-4df4-84f1-bfbe79b4fbf1",
   "metadata": {},
   "source": [
    "# Some of the commonly used libraries used by Data Scientists include:\n",
    "1. pandas\n",
    "2. scikit\n",
    "3. numpy"
   ]
  },
  {
   "cell_type": "markdown",
   "id": "14764e7a-5fad-411d-95c7-0fe6c18e2529",
   "metadata": {},
   "source": [
    "|Data Science Tools|\n",
    "|------------------|\n",
    "|anaconda|\n",
    "|rstudio|\n",
    "|git|"
   ]
  },
  {
   "cell_type": "markdown",
   "id": "3fdf6fe1-8792-4181-8519-98a27040e41e",
   "metadata": {},
   "source": [
    "### Below are a few examples of evaluating arithmetic expressions in Python"
   ]
  },
  {
   "cell_type": "code",
   "execution_count": 2,
   "id": "3310a854-8903-479e-8455-eb835b10ac45",
   "metadata": {},
   "outputs": [
    {
     "data": {
      "text/plain": [
       "17"
      ]
     },
     "execution_count": 2,
     "metadata": {},
     "output_type": "execute_result"
    }
   ],
   "source": [
    "#This a simple arithmetic expression to mutiply then add integers\n",
    "(3*4)+5"
   ]
  },
  {
   "cell_type": "code",
   "execution_count": 4,
   "id": "65f14f37-feda-41af-8a52-e8e32da6fcdd",
   "metadata": {},
   "outputs": [
    {
     "name": "stdout",
     "output_type": "stream",
     "text": [
      "the convertion is: 3.3333333333333335\n"
     ]
    }
   ],
   "source": [
    "#This will convert 200 minutes to hours by diving by 60\n",
    "min=200\n",
    "hours=min/60\n",
    "print(\"the convertion is:\",hours)"
   ]
  },
  {
   "cell_type": "markdown",
   "id": "5db55a46-e347-4562-9de9-4c17e7f1d527",
   "metadata": {},
   "source": [
    "# *Objectives:*\n",
    "- python\n",
    "- R\n",
    "- SPSS"
   ]
  },
  {
   "cell_type": "markdown",
   "id": "8d34d5eb-c9fa-4cd8-813b-3b8bf03be9ec",
   "metadata": {},
   "source": [
    "## author:\n",
    "s sembon surakshitha"
   ]
  },
  {
   "cell_type": "code",
   "execution_count": null,
   "id": "0d79cb79-39d4-475c-a8a4-33d9f636bc32",
   "metadata": {},
   "outputs": [],
   "source": []
  }
 ],
 "metadata": {
  "kernelspec": {
   "display_name": "Python 3 (ipykernel)",
   "language": "python",
   "name": "python3"
  },
  "language_info": {
   "codemirror_mode": {
    "name": "ipython",
    "version": 3
   },
   "file_extension": ".py",
   "mimetype": "text/x-python",
   "name": "python",
   "nbconvert_exporter": "python",
   "pygments_lexer": "ipython3",
   "version": "3.11.7"
  }
 },
 "nbformat": 4,
 "nbformat_minor": 5
}
